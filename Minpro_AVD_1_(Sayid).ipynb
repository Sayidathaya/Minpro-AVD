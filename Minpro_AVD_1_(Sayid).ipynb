{
  "nbformat": 4,
  "nbformat_minor": 0,
  "metadata": {
    "colab": {
      "provenance": []
    },
    "kernelspec": {
      "name": "python3",
      "display_name": "Python 3"
    },
    "language_info": {
      "name": "python"
    }
  },
  "cells": [
    {
      "cell_type": "markdown",
      "source": [
        "# **Top** **500** **Manga**'**s** **2020**\n",
        "\n",
        "# **Business** **Understanding**"
      ],
      "metadata": {
        "id": "E8_eu3_ci4-v"
      }
    },
    {
      "cell_type": "markdown",
      "source": [
        "## **Business** **Objective**"
      ],
      "metadata": {
        "id": "Ox1xSKs7jjKU"
      }
    },
    {
      "cell_type": "markdown",
      "source": [
        "Tujuan utama proyek ini adalah untuk mengidentifikasi kesukaan para pembaca manga di setiap kategori manga tersebut. Hal ini mencakup identifikasi faktor-faktor yang mempengaruhi populer nya sebuah manga, seperti genre, voting terbanyak, rata-rata jumlah chapter, skor terbaik, favorit terbanyak, dan member dari mannga nya. Dengan analisis ini, diharapkan dapat memberikan wawasan bagi produsen dan penjual dalam membuat dan mempopulerkan manga yang mereka buat yang sesuai dengan kebutuhan pasar serta meningkatkan kepuasan pelanggan.\n"
      ],
      "metadata": {
        "id": "oTJIKvqOjfQN"
      }
    },
    {
      "cell_type": "markdown",
      "source": [
        "## **Asses** **Situation**"
      ],
      "metadata": {
        "id": "gHRs4vS_ouNT"
      }
    },
    {
      "cell_type": "markdown",
      "source": [
        "Situasi bisnis yang mendasari analisis ini adalah pasar manga yang memiliki audiens yang banyak dan beragam, khususnya dalam yang bervariasi untuk genre, alur cerita, karakter, dan format. Pembaca manga dapat memiliki kecenderungan tertentu dalam memilih genre atau tema tertentu, dan ini dapat mempengaruhi popularitas manga. Dengan berbagai platform digital menyediakan manga secara online, seperti MangaDex, Webtoon, Crunchyroll Manga, dan sebagainya. Setiap platform biasanya memiliki data tentang jumlah chapter, rating pembaca, genre, dan interaksi pembaca, yang dapat digunakan untuk menganalisis preferensi. Oleh karena itu, penting bagi Artist Manga untuk memahami apa saja yang akan dia buat  agar dapat merilis komik manga yang sangat relevan dengan zaman nya.\n"
      ],
      "metadata": {
        "id": "QR355oYvo4Mw"
      }
    },
    {
      "cell_type": "markdown",
      "source": [
        "## **Data** **Mining** **Goals**"
      ],
      "metadata": {
        "id": "vn4TDJsSp6Z6"
      }
    },
    {
      "cell_type": "markdown",
      "source": [
        "Mengidentifikasi faktor-faktor yang mempengaruhi popularitas manga, seperti genre, jumlah chapter, rating, dan voting terbanyak. Dengan pengenditifikasian ini, proyek bertujuan membangun model prediksi untuk meramalkan manga yang berpotensi populer berdasarkan pola yang terdeteksi dalam data. Proyek ini akan memberikan rekomendasi kepada Artist Manga mengenai genre atau elemen mana yang sebaiknya difokuskan untuk menarik lebih banyak pembaca.\n"
      ],
      "metadata": {
        "id": "EzmnQIlkqKJ3"
      }
    },
    {
      "cell_type": "markdown",
      "source": [
        "## **Project** **Plan**"
      ],
      "metadata": {
        "id": "k1VM_WeCqPLw"
      }
    },
    {
      "cell_type": "markdown",
      "source": [
        "1. Pengumpulan dan Pembersihan Data\n",
        "\n",
        "- Mengidentifikasi dan mengumpulkan data yang relevan dari platform manga (seperti MangaDex, Webtoon, Crunchyroll, dll.)\n",
        "\n",
        "- Data yang perlu dikumpulkan: genre, skor, jumlah chapter, voting, jumlah pembaca atau anggota, dll.\n",
        "\n",
        "2. Analisis Deskriptif\n",
        "\n",
        "- Melakukan analisis untuk memahami distribusi data, seperti rata-rata jumlah chapter, genre mana yang paling banyak dipilih, dan skor rata-rata untuk manga.\n",
        "\n",
        "- Membuat visualisasi untuk menggambarkan hubungan antar elemen (misalnya, grafik batang genre populer, distribusi rating, dll.)\n",
        "\n",
        "3. Modeling & Insights\n",
        "\n",
        "- Memilih algoritma data mining yang cocok untuk prediksi, seperti algoritma klasifikasi (decision tree, random forest) atau regresi (untuk memprediksi rating atau popularitas).\n",
        "\n",
        "- Memberikan rekomendasi Manga Terbaik berdasarkan hasil analisis\n",
        "\n",
        "4.Dokumentasi & Presentasi\n",
        "\n",
        "- Menyusun laporan hasil identifikasi.\n",
        "\n",
        "- Menyajikan temuan dengan visualisasi yang jelas."
      ],
      "metadata": {
        "id": "JsXIlAHWqbdI"
      }
    }
  ]
}